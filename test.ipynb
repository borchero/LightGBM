{
 "cells": [
  {
   "cell_type": "code",
   "execution_count": 1,
   "metadata": {},
   "outputs": [],
   "source": [
    "import os\n",
    "os.environ[\"OMP_NUM_THREADS\"] = \"1\""
   ]
  },
  {
   "cell_type": "code",
   "execution_count": 2,
   "metadata": {},
   "outputs": [],
   "source": [
    "import polars as pl\n",
    "import lightgbm as lgb\n",
    "import numpy as np"
   ]
  },
  {
   "cell_type": "code",
   "execution_count": 3,
   "metadata": {},
   "outputs": [],
   "source": [
    "import logging\n",
    "import sys\n",
    "import psutil\n",
    "\n",
    "CURRENT_PROCESS = psutil.Process()\n",
    "\n",
    "logger = logging.getLogger(__name__)\n",
    "\n",
    "def log_memory_consumption():\n",
    "    current_memory = CURRENT_PROCESS.memory_info().rss / (2**30)\n",
    "    peak_memory = _get_peak_memory_gib()\n",
    "    print(\n",
    "        f\"Currently using {current_memory:.2f} GiB memory (max {peak_memory:.2f} GiB)\",\n",
    "    )\n",
    "\n",
    "def _get_peak_memory_gib() -> float | None:\n",
    "    match sys.platform:\n",
    "        case \"win32\":\n",
    "            # Return value is bytes\n",
    "            return CURRENT_PROCESS.memory_info().peak_wset / (2**30)\n",
    "        case \"linux\":\n",
    "            import resource  # NOTE: This package is not available on Windows\n",
    "\n",
    "            # Return value is kilobytes\n",
    "            return resource.getrusage(resource.RUSAGE_SELF).ru_maxrss / (2**20)\n",
    "        case \"darwin\":\n",
    "            import resource  # NOTE: This package is not available on Windows\n",
    "\n",
    "            # Return value is bytes\n",
    "            return resource.getrusage(resource.RUSAGE_SELF).ru_maxrss / (2**30)\n",
    "        case _:\n",
    "            return None\n"
   ]
  },
  {
   "cell_type": "code",
   "execution_count": 4,
   "metadata": {},
   "outputs": [
    {
     "name": "stdout",
     "output_type": "stream",
     "text": [
      "Currently using 0.17 GiB memory (max 0.17 GiB)\n"
     ]
    }
   ],
   "source": [
    "log_memory_consumption()"
   ]
  },
  {
   "cell_type": "code",
   "execution_count": 5,
   "metadata": {},
   "outputs": [
    {
     "name": "stdout",
     "output_type": "stream",
     "text": [
      "Currently using 0.92 GiB memory (max 0.92 GiB)\n"
     ]
    }
   ],
   "source": [
    "df = pl.DataFrame({\n",
    "    f\"col_{i}\": np.random.randn(1000000)\n",
    "    for i in range(100)\n",
    "})\n",
    "log_memory_consumption()"
   ]
  },
  {
   "cell_type": "code",
   "execution_count": 6,
   "metadata": {},
   "outputs": [
    {
     "name": "stdout",
     "output_type": "stream",
     "text": [
      "Currently using 0.94 GiB memory (max 0.95 GiB)\n"
     ]
    }
   ],
   "source": [
    "df.write_parquet(\"df.parquet\")\n",
    "log_memory_consumption()"
   ]
  },
  {
   "cell_type": "code",
   "execution_count": 7,
   "metadata": {},
   "outputs": [
    {
     "name": "stdout",
     "output_type": "stream",
     "text": [
      "Currently using 0.95 GiB memory (max 0.95 GiB)\n"
     ]
    }
   ],
   "source": [
    "ldf = pl.scan_parquet(\"df.parquet\")\n",
    "log_memory_consumption()"
   ]
  },
  {
   "cell_type": "code",
   "execution_count": 8,
   "metadata": {},
   "outputs": [
    {
     "name": "stdout",
     "output_type": "stream",
     "text": [
      "Currently using 0.95 GiB memory (max 0.95 GiB)\n",
      "Currently using 1.77 GiB memory (max 2.50 GiB)\n",
      "Currently using 1.80 GiB memory (max 2.53 GiB)\n",
      "Currently using 1.82 GiB memory (max 2.55 GiB)\n",
      "Currently using 1.83 GiB memory (max 2.55 GiB)\n",
      "Currently using 1.83 GiB memory (max 2.56 GiB)\n",
      "Currently using 1.83 GiB memory (max 2.56 GiB)\n",
      "Currently using 1.83 GiB memory (max 2.56 GiB)\n",
      "Currently using 1.85 GiB memory (max 2.57 GiB)\n",
      "Currently using 1.85 GiB memory (max 2.58 GiB)\n",
      "Currently using 1.86 GiB memory (max 2.58 GiB)\n"
     ]
    }
   ],
   "source": [
    "for _ in range(10):\n",
    "    log_memory_consumption()\n",
    "    a = ldf.collect()\n",
    "    del a\n",
    "log_memory_consumption()"
   ]
  },
  {
   "cell_type": "code",
   "execution_count": 9,
   "metadata": {},
   "outputs": [
    {
     "name": "stdout",
     "output_type": "stream",
     "text": [
      "Currently using 1.86 GiB memory (max 2.58 GiB)\n",
      "Currently using 1.86 GiB memory (max 2.58 GiB)\n",
      "Currently using 1.86 GiB memory (max 2.58 GiB)\n",
      "Currently using 1.86 GiB memory (max 2.58 GiB)\n",
      "Currently using 1.86 GiB memory (max 2.58 GiB)\n",
      "Currently using 1.86 GiB memory (max 2.58 GiB)\n",
      "Currently using 1.86 GiB memory (max 2.58 GiB)\n",
      "Currently using 1.86 GiB memory (max 2.58 GiB)\n",
      "Currently using 1.86 GiB memory (max 2.58 GiB)\n",
      "Currently using 1.86 GiB memory (max 2.58 GiB)\n",
      "Currently using 1.86 GiB memory (max 2.58 GiB)\n"
     ]
    }
   ],
   "source": [
    "for _ in range(10):\n",
    "    log_memory_consumption()\n",
    "    a = df.to_arrow()\n",
    "    del a\n",
    "log_memory_consumption()"
   ]
  },
  {
   "cell_type": "code",
   "execution_count": 10,
   "metadata": {},
   "outputs": [
    {
     "name": "stdout",
     "output_type": "stream",
     "text": [
      "Currently using 1.86 GiB memory (max 2.58 GiB)\n",
      "Currently using 1.87 GiB memory (max 2.59 GiB)\n",
      "Currently using 1.87 GiB memory (max 2.60 GiB)\n",
      "Currently using 1.88 GiB memory (max 2.60 GiB)\n",
      "Currently using 1.88 GiB memory (max 2.61 GiB)\n",
      "Currently using 1.89 GiB memory (max 2.62 GiB)\n",
      "Currently using 1.90 GiB memory (max 2.63 GiB)\n",
      "Currently using 1.91 GiB memory (max 2.63 GiB)\n",
      "Currently using 1.92 GiB memory (max 2.64 GiB)\n",
      "Currently using 1.48 GiB memory (max 2.64 GiB)\n",
      "Currently using 1.57 GiB memory (max 2.64 GiB)\n"
     ]
    }
   ],
   "source": [
    "for _ in range(10):\n",
    "    log_memory_consumption()\n",
    "    a = ldf.collect().to_arrow()\n",
    "    del a\n",
    "log_memory_consumption()"
   ]
  },
  {
   "cell_type": "code",
   "execution_count": 11,
   "metadata": {},
   "outputs": [
    {
     "name": "stdout",
     "output_type": "stream",
     "text": [
      "Currently using 1.56 GiB memory (max 2.64 GiB)\n",
      "Currently using 1.46 GiB memory (max 2.95 GiB)\n",
      "Currently using 1.47 GiB memory (max 2.96 GiB)\n",
      "Currently using 1.47 GiB memory (max 2.96 GiB)\n",
      "Currently using 1.48 GiB memory (max 2.97 GiB)\n",
      "Currently using 1.49 GiB memory (max 2.98 GiB)\n",
      "Currently using 1.50 GiB memory (max 2.99 GiB)\n",
      "Currently using 1.50 GiB memory (max 2.99 GiB)\n",
      "Currently using 1.50 GiB memory (max 2.99 GiB)\n",
      "Currently using 1.50 GiB memory (max 2.99 GiB)\n",
      "Currently using 1.51 GiB memory (max 3.00 GiB)\n"
     ]
    }
   ],
   "source": [
    "for _ in range(10):\n",
    "    log_memory_consumption()\n",
    "    a = ldf.collect().to_numpy()\n",
    "    del a\n",
    "log_memory_consumption()"
   ]
  },
  {
   "cell_type": "code",
   "execution_count": 12,
   "metadata": {},
   "outputs": [
    {
     "name": "stdout",
     "output_type": "stream",
     "text": [
      "Currently using 1.51 GiB memory (max 3.00 GiB)\n",
      "Currently using 1.51 GiB memory (max 3.00 GiB)\n",
      "Currently using 1.51 GiB memory (max 3.00 GiB)\n",
      "Currently using 1.51 GiB memory (max 3.00 GiB)\n",
      "Currently using 1.51 GiB memory (max 3.00 GiB)\n",
      "Currently using 1.51 GiB memory (max 3.00 GiB)\n",
      "Currently using 1.51 GiB memory (max 3.01 GiB)\n",
      "Currently using 1.52 GiB memory (max 3.01 GiB)\n",
      "Currently using 1.53 GiB memory (max 3.02 GiB)\n",
      "Currently using 1.51 GiB memory (max 3.02 GiB)\n",
      "Currently using 1.52 GiB memory (max 3.02 GiB)\n"
     ]
    }
   ],
   "source": [
    "for _ in range(10):\n",
    "    log_memory_consumption()\n",
    "    ds = lgb.Dataset(ldf.collect().to_numpy())\n",
    "    del ds\n",
    "log_memory_consumption()"
   ]
  },
  {
   "cell_type": "code",
   "execution_count": 13,
   "metadata": {},
   "outputs": [
    {
     "name": "stdout",
     "output_type": "stream",
     "text": [
      "Currently using 1.52 GiB memory (max 3.02 GiB)\n",
      "Currently using 2.01 GiB memory (max 3.50 GiB)\n",
      "Currently using 2.23 GiB memory (max 3.72 GiB)\n",
      "Currently using 2.06 GiB memory (max 3.77 GiB)\n",
      "Currently using 2.05 GiB memory (max 3.77 GiB)\n",
      "Currently using 2.01 GiB memory (max 3.77 GiB)\n",
      "Currently using 2.10 GiB memory (max 3.77 GiB)\n",
      "Currently using 2.12 GiB memory (max 3.77 GiB)\n",
      "Currently using 1.71 GiB memory (max 3.77 GiB)\n",
      "Currently using 1.77 GiB memory (max 3.77 GiB)\n",
      "Currently using 1.62 GiB memory (max 3.77 GiB)\n"
     ]
    }
   ],
   "source": [
    "for _ in range(10):\n",
    "    log_memory_consumption()\n",
    "    ds = lgb.Dataset(ldf.collect().to_numpy())\n",
    "    ds.construct()\n",
    "    del ds\n",
    "log_memory_consumption()"
   ]
  },
  {
   "cell_type": "code",
   "execution_count": 14,
   "metadata": {},
   "outputs": [
    {
     "name": "stdout",
     "output_type": "stream",
     "text": [
      "Currently using 1.62 GiB memory (max 3.77 GiB)\n",
      "Currently using 1.65 GiB memory (max 3.77 GiB)\n",
      "Currently using 1.65 GiB memory (max 3.77 GiB)\n",
      "Currently using 1.66 GiB memory (max 3.77 GiB)\n",
      "Currently using 1.66 GiB memory (max 3.77 GiB)\n",
      "Currently using 1.66 GiB memory (max 3.77 GiB)\n",
      "Currently using 1.66 GiB memory (max 3.77 GiB)\n",
      "Currently using 1.66 GiB memory (max 3.77 GiB)\n",
      "Currently using 1.66 GiB memory (max 3.77 GiB)\n",
      "Currently using 1.67 GiB memory (max 3.77 GiB)\n",
      "Currently using 1.67 GiB memory (max 3.77 GiB)\n"
     ]
    }
   ],
   "source": [
    "for _ in range(10):\n",
    "    log_memory_consumption()\n",
    "    ds = lgb.Dataset(ldf.collect().to_arrow())\n",
    "    del ds\n",
    "log_memory_consumption()"
   ]
  },
  {
   "cell_type": "code",
   "execution_count": 8,
   "metadata": {},
   "outputs": [
    {
     "name": "stdout",
     "output_type": "stream",
     "text": [
      "Currently using 0.95 GiB memory (max 0.95 GiB)\n",
      "Currently using 2.09 GiB memory (max 2.49 GiB)\n",
      "Currently using 2.71 GiB memory (max 3.34 GiB)\n",
      "Currently using 3.30 GiB memory (max 3.94 GiB)\n",
      "Currently using 3.85 GiB memory (max 4.53 GiB)\n",
      "Currently using 4.42 GiB memory (max 5.08 GiB)\n",
      "Currently using 4.92 GiB memory (max 5.65 GiB)\n",
      "Currently using 5.44 GiB memory (max 6.15 GiB)\n",
      "Currently using 5.86 GiB memory (max 6.67 GiB)\n",
      "Currently using 6.42 GiB memory (max 7.09 GiB)\n",
      "Currently using 6.97 GiB memory (max 7.65 GiB)\n"
     ]
    }
   ],
   "source": [
    "for _ in range(10):\n",
    "    log_memory_consumption()\n",
    "    ds = lgb.Dataset(ldf.collect().to_arrow())\n",
    "    ds.construct()\n",
    "    del ds\n",
    "log_memory_consumption()"
   ]
  },
  {
   "cell_type": "code",
   "execution_count": null,
   "metadata": {},
   "outputs": [],
   "source": []
  }
 ],
 "metadata": {
  "kernelspec": {
   "display_name": "lightgbm",
   "language": "python",
   "name": "python3"
  },
  "language_info": {
   "codemirror_mode": {
    "name": "ipython",
    "version": 3
   },
   "file_extension": ".py",
   "mimetype": "text/x-python",
   "name": "python",
   "nbconvert_exporter": "python",
   "pygments_lexer": "ipython3",
   "version": "3.12.1"
  }
 },
 "nbformat": 4,
 "nbformat_minor": 2
}
